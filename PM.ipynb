{
  "nbformat": 4,
  "nbformat_minor": 0,
  "metadata": {
    "colab": {
      "provenance": [],
      "collapsed_sections": [
        "TgUPlofwFwUj",
        "sdTREBB1rlGC",
        "YKaaU6LIG1dT",
        "kLuwxBRnJSLz",
        "VrS6hgRLJx5c",
        "Z-reuIsGln39",
        "4Lph876yoWPg",
        "HDwFor7fKggY"
      ]
    },
    "kernelspec": {
      "name": "python3",
      "display_name": "Python 3"
    },
    "language_info": {
      "name": "python"
    }
  },
  "cells": [
    {
      "cell_type": "markdown",
      "source": [
        "**What it is:**  \n",
        "  - This script processes a set of real estate product data to classify and enrich product attributes, then uploads and merges the cleaned data into a Snowflake database table.\n",
        "\n",
        "**What it does:**  \n",
        "  - Defines product records with basic metadata (product code, name, vehicle category).  \n",
        "  - Applies classification logic to assign share classes (e.g., Institutional, Retail) and vehicle types/categories (e.g., Mutual Fund, Separate Account).  \n",
        "  - Adjusts product details for ETFs by updating names and classifications accordingly.  \n",
        "  - Adds mandatory static fields such as asset class, marketing flag, and performance accounts.  \n",
        "  - Normalizes column names for compatibility with Snowflake.  \n",
        "  - Connects to Snowflake using environment variables for credentials.  \n",
        "  - Uploads the processed DataFrame to a staging table in Snowflake.  \n",
        "  - Merges the staging data into the main ProductMaster table, inserting new records while avoiding duplicates.\n",
        "\n",
        "**Why it’s important:**  \n",
        "  - Ensures consistent and accurate classification of product data, which is critical for reporting, analysis, and compliance.  \n",
        "  - Automates data ingestion and synchronization with the Snowflake data warehouse, improving data reliability and timeliness.  \n",
        "  - Supports downstream analytics and portfolio management by maintaining up-to-date product metadata aligned with business definitions.\n"
      ],
      "metadata": {
        "id": "S8ITx8LWsLQg"
      }
    },
    {
      "cell_type": "markdown",
      "source": [
        "# **Product Master Table**"
      ],
      "metadata": {
        "id": "TgUPlofwFwUj"
      }
    },
    {
      "cell_type": "markdown",
      "source": [
        "## Share Class Classification dictionary"
      ],
      "metadata": {
        "id": "sdTREBB1rlGC"
      }
    },
    {
      "cell_type": "markdown",
      "source": [
        "| Label           | Meaning                                                                                         |\n",
        "| --------------- | ----------------------------------------------------------------------------------------------- |\n",
        "| `Institutional` | Offered through **separate accounts**, **pensions**, or direct to large institutional clients   |\n",
        "| `Retail`        | Publicly available to **individual investors** (e.g. mutual funds, 401(k) plans, ETFs)          |\n",
        "| `Preferred`     | Strategy targeting **preferred equity instruments**, typically REITs with fixed yields          |\n",
        "| `Class A`       | Front-load share class with **upfront sales charges** and lower expense ratios                  |\n",
        "| `Class B`       | **Deferred sales charge** (back-end load); often converts to Class A after a set period         |\n",
        "| `Class C`       | **Level-load** class with higher annual fees, but no front- or back-end sales charges           |\n",
        "| `N/A`           | No identifiable share class structure (e.g., internal models, simulated products)               |\n",
        "\n"
      ],
      "metadata": {
        "id": "_S-qNdaMF8MR"
      }
    },
    {
      "cell_type": "markdown",
      "source": [
        "## reit_shareclass_classifier.py"
      ],
      "metadata": {
        "id": "YKaaU6LIG1dT"
      }
    },
    {
      "cell_type": "code",
      "source": [
        "import pandas as pd\n",
        "\n",
        "# Sample ProductMaster Data\n",
        "product_df = pd.DataFrame({\n",
        "    \"PRODUCTCODE\": [\"REITProd001\", \"REITProd002\"],\n",
        "    \"PRODUCTNAME\": [\n",
        "        \"Assette Real Estate Growth Fund\",\n",
        "        \"Assette Real Estate Value Fund\"\n",
        "    ],\n",
        "    \"VEHICLECATEGORY\": [\n",
        "        \"Mutual Fund\", \"ETF\"\n",
        "    ]\n",
        "})\n",
        "\n",
        "def assign_share_class(row):\n",
        "    \"\"\"\n",
        "    Assigns a share class label to a product row based on keywords in the product name\n",
        "    and vehicle category.\n",
        "\n",
        "    Args:\n",
        "        row (pd.Series): A row from the product DataFrame.\n",
        "\n",
        "    Returns:\n",
        "        str: The assigned share class, or 'N/A' if no match.\n",
        "    \"\"\"\n",
        "    name = str(row.get(\"PRODUCTNAME\", \"\")).lower()\n",
        "    vehicle = str(row.get(\"VEHICLECATEGORY\", \"\")).lower()\n",
        "\n",
        "    if \"class a\" in name:\n",
        "        return \"Class A\"\n",
        "    if \"class b\" in name:\n",
        "        return \"Class B\"\n",
        "    if \"class c\" in name:\n",
        "        return \"Class C\"\n",
        "    if \"preferred\" in name:\n",
        "        return \"Preferred\"\n",
        "    if \"institutional\" in name or \"separate account\" in vehicle:\n",
        "        return \"Institutional\"\n",
        "    if \"retail\" in name or \"mutual\" in vehicle:\n",
        "        return \"Retail\"\n",
        "    return \"N/A\"\n",
        "\n",
        "def assign_vehicle_type(row):\n",
        "    \"\"\"\n",
        "    Determines the vehicle type of a product based on product name and vehicle category.\n",
        "    Assette-approved values only.\n",
        "\n",
        "    Args:\n",
        "        row (pd.Series): A row from the product DataFrame.\n",
        "\n",
        "    Returns:\n",
        "        str: Vehicle type such as 'Separate Account', 'Mutual Fund', or 'Commingled Fund'.\n",
        "    \"\"\"\n",
        "    name = str(row.get(\"PRODUCTNAME\", \"\")).lower()\n",
        "    category = str(row.get(\"VEHICLECATEGORY\", \"\")).lower()\n",
        "\n",
        "    if \"separate\" in category or \"separate account\" in name:\n",
        "        return \"Separate Account\"\n",
        "    if \"mutual\" in name or \"mutual\" in category:\n",
        "        return \"Mutual Fund\"\n",
        "    if \"fund\" in name and \"class\" in name:\n",
        "        return \"Commingled Fund\"  # heuristic fallback for pooled vehicles\n",
        "    return \"Mutual Fund\"  # default fallback (ETF not allowed)\n",
        "\n",
        "def assign_vehicle_category(row):\n",
        "    \"\"\"\n",
        "    Assigns a vehicle category value based on vehicle type.\n",
        "    Separate Accounts are considered 'Segregated', all others 'Pooled'.\n",
        "\n",
        "    Args:\n",
        "        row (pd.Series): A row from the product DataFrame.\n",
        "\n",
        "    Returns:\n",
        "        str: 'Segregated' or 'Pooled'\n",
        "    \"\"\"\n",
        "    vt = row.get(\"VEHICLETYPE\", \"\")\n",
        "    if vt == \"Separate Account\":\n",
        "        return \"Segregated\"\n",
        "    return \"Pooled\"\n",
        "\n",
        "# Apply share class, vehicle type, and category logic to the DataFrame\n",
        "product_df[\"SHARECLASS\"] = product_df.apply(assign_share_class, axis=1)\n",
        "product_df[\"VEHICLETYPE\"] = product_df.apply(assign_vehicle_type, axis=1)\n",
        "product_df[\"VEHICLECATEGORY\"] = product_df.apply(assign_vehicle_category, axis=1)\n",
        "\n",
        "def recast_etf_products(row):\n",
        "    \"\"\"\n",
        "    For products identified as ETFs, updates the product metadata to model\n",
        "    them as 'Global Real Estate Growth Fund' with institutional share class.\n",
        "\n",
        "    Args:\n",
        "        row (pd.Series): A row from the product DataFrame.\n",
        "\n",
        "    Returns:\n",
        "        pd.Series: The updated row with adjusted product fields.\n",
        "    \"\"\"\n",
        "    name = str(row.get(\"PRODUCTNAME\", \"\")).lower()\n",
        "    vehicle = str(row.get(\"VEHICLECATEGORY\", \"\")).lower()\n",
        "\n",
        "    if \"etf\" in name or \"etf\" in vehicle:\n",
        "        # Update product name to represent modeled product\n",
        "        row[\"PRODUCTNAME\"] = f\"Global Real Estate Growth Fund ({row['PRODUCTCODE']})\"\n",
        "        row[\"VEHICLETYPE\"] = \"Commingled Fund\"\n",
        "        row[\"VEHICLECATEGORY\"] = \"Pooled\"\n",
        "        # Default to institutional share class for ETFs\n",
        "        row[\"SHARECLASS\"] = \"Institutional\"\n",
        "\n",
        "    return row\n",
        "\n",
        "# Apply ETF recasting logic\n",
        "product_df = product_df.apply(recast_etf_products, axis=1)\n",
        "\n",
        "# Fill remaining mandatory fields for testing/demo purposes\n",
        "product_df[\"ASSETCLASS\"] = \"Equity\"\n",
        "product_df[\"ISMARKETED\"] = 1\n",
        "product_df[\"PARENTPRODUCTCODE\"] = \"PRDK_MASTER\"\n",
        "product_df[\"PERFORMANCEACCOUNT\"] = product_df[\"PRODUCTCODE\"].apply(lambda x: f\"{x}_PERF\")\n",
        "product_df[\"REPRESENTATIVEACCOUNT\"] = product_df[\"PRODUCTCODE\"].apply(lambda x: f\"{x}_REP\")\n",
        "product_df[\"STRATEGY\"] = \"REIT\"\n",
        "\n",
        "# Print the final product DataFrame with key columns\n",
        "print(product_df[[\n",
        "    \"PRODUCTCODE\", \"PRODUCTNAME\", \"ASSETCLASS\", \"ISMARKETED\", \"PARENTPRODUCTCODE\",\n",
        "    \"PERFORMANCEACCOUNT\", \"REPRESENTATIVEACCOUNT\", \"SHARECLASS\",\n",
        "    \"STRATEGY\", \"VEHICLECATEGORY\", \"VEHICLETYPE\"\n",
        "]])\n"
      ],
      "metadata": {
        "colab": {
          "base_uri": "https://localhost:8080/"
        },
        "id": "AQaAqPd3F3I7",
        "outputId": "e93e7244-f874-4dc6-9a40-bef68824e3a8"
      },
      "execution_count": null,
      "outputs": [
        {
          "output_type": "stream",
          "name": "stdout",
          "text": [
            "   PRODUCTCODE                      PRODUCTNAME ASSETCLASS  ISMARKETED  \\\n",
            "0  REITProd001  Assette Real Estate Growth Fund     Equity           1   \n",
            "1  REITProd002   Assette Real Estate Value Fund     Equity           1   \n",
            "\n",
            "  PARENTPRODUCTCODE PERFORMANCEACCOUNT REPRESENTATIVEACCOUNT SHARECLASS  \\\n",
            "0       PRDK_MASTER   REITProd001_PERF       REITProd001_REP     Retail   \n",
            "1       PRDK_MASTER   REITProd002_PERF       REITProd002_REP        N/A   \n",
            "\n",
            "  STRATEGY VEHICLECATEGORY  VEHICLETYPE  \n",
            "0     REIT          Pooled  Mutual Fund  \n",
            "1     REIT          Pooled  Mutual Fund  \n"
          ]
        }
      ]
    },
    {
      "cell_type": "markdown",
      "source": [
        "How it works:\n",
        "\n",
        "- The logic assumes a seller perspective, classifying investment products based on how they're positioned in name and vehicle type — not ticker identity.\n",
        "\n",
        "- ETF-based products are no longer treated literally. If the product name or vehicle category contains \"ETF\":\n",
        "\n",
        "    - The product is recast as a modeled strategy (e.g., “Global Real Estate Growth Fund”)\n",
        "\n",
        "    - VEHICLETYPE is set to \"Commingled Fund\"\n",
        "\n",
        "    - VEHICLECATEGORY is set to \"Pooled\"\n",
        "\n",
        "    - SHARECLASS defaults to \"Institutional\"\n",
        "\n",
        "- The code then uses keyword heuristics to assign a SHARECLASS label:\n",
        "\n",
        "| Tag             | Trigger Logic                                                              |\n",
        "| --------------- | -------------------------------------------------------------------------- |\n",
        "| `Class A/B/C`   | Product name contains `\"class a\"`, `\"class b\"`, or `\"class c\"`             |\n",
        "| `Preferred`     | Product name contains `\"preferred\"`                                        |\n",
        "| `Institutional` | Product name or vehicle mentions `\"institutional\"` or `\"separate account\"` |\n",
        "| `Retail`        | Name or vehicle contains `\"retail\"` or `\"mutual\"`                          |\n",
        "| `N/A`           | No known indicator present                                                 |\n",
        "\n",
        "\n",
        "This approach focuses on fund packaging logic, not holdings."
      ],
      "metadata": {
        "id": "vqytxolVH2Fi"
      }
    },
    {
      "cell_type": "markdown",
      "source": [
        "Further use / Pipeline integration:\n",
        "\n",
        "- Replace the sample product_df with one read from the Snowflake table or staging DataFrame\n",
        "\n",
        "- Return this DataFrame directly to be written to staging via write_pandas() or passed to the next ETL step"
      ],
      "metadata": {
        "id": "FndeSbPNIKGA"
      }
    },
    {
      "cell_type": "markdown",
      "source": [
        "## shareclass_validation.py"
      ],
      "metadata": {
        "id": "kLuwxBRnJSLz"
      }
    },
    {
      "cell_type": "code",
      "source": [
        "import pandas as pd\n",
        "import logging\n",
        "\n",
        "# Set up logging configuration to capture validation info and errors\n",
        "logging.basicConfig(\n",
        "    filename=\"shareclass_validation.log\",\n",
        "    filemode=\"a\",\n",
        "    format=\"%(asctime)s | %(levelname)s | %(message)s\",\n",
        "    level=logging.INFO\n",
        ")\n",
        "\n",
        "# Define valid share class labels for validation checks\n",
        "VALID_CLASSES = {\n",
        "    \"Preferred\", \"Institutional\", \"Retail\",\n",
        "    \"Class A\", \"Class B\", \"Class C\", \"N/A\"\n",
        "}\n",
        "\n",
        "def classify_shareclass_fund(df: pd.DataFrame) -> pd.DataFrame:\n",
        "    \"\"\"\n",
        "    Assigns the SHARECLASS column for each product in the DataFrame\n",
        "    based on keywords found in PRODUCTNAME and VEHICLECATEGORY fields.\n",
        "\n",
        "    Args:\n",
        "        df (pd.DataFrame): Input product DataFrame.\n",
        "\n",
        "    Returns:\n",
        "        pd.DataFrame: DataFrame with SHARECLASS column assigned.\n",
        "    \"\"\"\n",
        "    def assign(row):\n",
        "        name = str(row.get(\"PRODUCTNAME\", \"\")).lower()\n",
        "        vehicle = str(row.get(\"VEHICLECATEGORY\", \"\")).lower()\n",
        "\n",
        "        if \"class a\" in name:\n",
        "            return \"Class A\"\n",
        "        if \"class b\" in name:\n",
        "            return \"Class B\"\n",
        "        if \"class c\" in name:\n",
        "            return \"Class C\"\n",
        "        if \"preferred\" in name:\n",
        "            return \"Preferred\"\n",
        "        if \"institutional\" in name or \"separate account\" in vehicle or \"institutional\" in vehicle:\n",
        "            return \"Institutional\"\n",
        "        if \"retail\" in name or \"mutual\" in vehicle:\n",
        "            return \"Retail\"\n",
        "        return \"N/A\"\n",
        "\n",
        "    df[\"SHARECLASS\"] = df.apply(assign, axis=1)\n",
        "    return df\n",
        "\n",
        "def validate_shareclass(df: pd.DataFrame):\n",
        "    \"\"\"\n",
        "    Validates the SHARECLASS values in the DataFrame against the valid classes.\n",
        "    Logs summary, warnings for missing values, and errors for invalid values.\n",
        "    Raises an exception if invalid SHARECLASS values exceed 10% of total.\n",
        "\n",
        "    Args:\n",
        "        df (pd.DataFrame): Input DataFrame with SHARECLASS column.\n",
        "    \"\"\"\n",
        "    total = len(df)\n",
        "    missing = df[\"SHARECLASS\"].isna().sum()\n",
        "    invalid = df[~df[\"SHARECLASS\"].isin(VALID_CLASSES)]\n",
        "\n",
        "    logging.info(f\"Validating SHARECLASS on {total} products.\")\n",
        "\n",
        "    if missing > 0:\n",
        "        logging.warning(f\"{missing} rows missing SHARECLASS values.\")\n",
        "\n",
        "    if not invalid.empty:\n",
        "        logging.error(f\"{len(invalid)} invalid SHARECLASS values found:\")\n",
        "        for _, row in invalid.iterrows():\n",
        "            logging.error(f\"PRODUCTCODE={row.get('PRODUCTCODE')} | SHARECLASS='{row.get('SHARECLASS')}'\")\n",
        "\n",
        "    if total > 0 and len(invalid) / total > 0.1:\n",
        "        raise ValueError(\"More than 10% of SHARECLASS values are invalid.\")\n",
        "\n",
        "    logging.info(\"SHARECLASS validation complete.\")\n",
        "\n",
        "def preview_shareclass_issues(df: pd.DataFrame):\n",
        "    \"\"\"\n",
        "    Prints a preview of rows with missing or invalid SHARECLASS values.\n",
        "\n",
        "    Args:\n",
        "        df (pd.DataFrame): DataFrame with SHARECLASS column.\n",
        "    \"\"\"\n",
        "    bad = df[df[\"SHARECLASS\"].isna() | ~df[\"SHARECLASS\"].isin(VALID_CLASSES)]\n",
        "    if bad.empty:\n",
        "        print(\"All SHARECLASS values are valid.\")\n",
        "    else:\n",
        "        print(\"Issues found in SHARECLASS:\")\n",
        "        print(bad[[\"PRODUCTCODE\", \"PRODUCTNAME\", \"SHARECLASS\"]])\n"
      ],
      "metadata": {
        "id": "o5kU0oZLH3O_"
      },
      "execution_count": null,
      "outputs": []
    },
    {
      "cell_type": "markdown",
      "source": [
        "# **Connecting to Snowflake**"
      ],
      "metadata": {
        "id": "VrS6hgRLJx5c"
      }
    },
    {
      "cell_type": "markdown",
      "source": [
        "## Establishing Connection"
      ],
      "metadata": {
        "id": "Z-reuIsGln39"
      }
    },
    {
      "cell_type": "markdown",
      "source": [
        "You must download the env.txt file which is located in my GDrive folder (\"Shiv-Code\") and upload using the \"Choose Files\" widget after running the below cell."
      ],
      "metadata": {
        "id": "aCaqWuKnfCMD"
      }
    },
    {
      "cell_type": "code",
      "source": [
        "from google.colab import files\n",
        "uploaded = files.upload()"
      ],
      "metadata": {
        "colab": {
          "base_uri": "https://localhost:8080/",
          "height": 73
        },
        "id": "oOwM03pkkw8y",
        "outputId": "fda27802-1f4f-4f45-faa2-72d65b40dcae"
      },
      "execution_count": null,
      "outputs": [
        {
          "output_type": "display_data",
          "data": {
            "text/plain": [
              "<IPython.core.display.HTML object>"
            ],
            "text/html": [
              "\n",
              "     <input type=\"file\" id=\"files-d1b64163-cfa2-472c-ad37-3eb607f176e7\" name=\"files[]\" multiple disabled\n",
              "        style=\"border:none\" />\n",
              "     <output id=\"result-d1b64163-cfa2-472c-ad37-3eb607f176e7\">\n",
              "      Upload widget is only available when the cell has been executed in the\n",
              "      current browser session. Please rerun this cell to enable.\n",
              "      </output>\n",
              "      <script>// Copyright 2017 Google LLC\n",
              "//\n",
              "// Licensed under the Apache License, Version 2.0 (the \"License\");\n",
              "// you may not use this file except in compliance with the License.\n",
              "// You may obtain a copy of the License at\n",
              "//\n",
              "//      http://www.apache.org/licenses/LICENSE-2.0\n",
              "//\n",
              "// Unless required by applicable law or agreed to in writing, software\n",
              "// distributed under the License is distributed on an \"AS IS\" BASIS,\n",
              "// WITHOUT WARRANTIES OR CONDITIONS OF ANY KIND, either express or implied.\n",
              "// See the License for the specific language governing permissions and\n",
              "// limitations under the License.\n",
              "\n",
              "/**\n",
              " * @fileoverview Helpers for google.colab Python module.\n",
              " */\n",
              "(function(scope) {\n",
              "function span(text, styleAttributes = {}) {\n",
              "  const element = document.createElement('span');\n",
              "  element.textContent = text;\n",
              "  for (const key of Object.keys(styleAttributes)) {\n",
              "    element.style[key] = styleAttributes[key];\n",
              "  }\n",
              "  return element;\n",
              "}\n",
              "\n",
              "// Max number of bytes which will be uploaded at a time.\n",
              "const MAX_PAYLOAD_SIZE = 100 * 1024;\n",
              "\n",
              "function _uploadFiles(inputId, outputId) {\n",
              "  const steps = uploadFilesStep(inputId, outputId);\n",
              "  const outputElement = document.getElementById(outputId);\n",
              "  // Cache steps on the outputElement to make it available for the next call\n",
              "  // to uploadFilesContinue from Python.\n",
              "  outputElement.steps = steps;\n",
              "\n",
              "  return _uploadFilesContinue(outputId);\n",
              "}\n",
              "\n",
              "// This is roughly an async generator (not supported in the browser yet),\n",
              "// where there are multiple asynchronous steps and the Python side is going\n",
              "// to poll for completion of each step.\n",
              "// This uses a Promise to block the python side on completion of each step,\n",
              "// then passes the result of the previous step as the input to the next step.\n",
              "function _uploadFilesContinue(outputId) {\n",
              "  const outputElement = document.getElementById(outputId);\n",
              "  const steps = outputElement.steps;\n",
              "\n",
              "  const next = steps.next(outputElement.lastPromiseValue);\n",
              "  return Promise.resolve(next.value.promise).then((value) => {\n",
              "    // Cache the last promise value to make it available to the next\n",
              "    // step of the generator.\n",
              "    outputElement.lastPromiseValue = value;\n",
              "    return next.value.response;\n",
              "  });\n",
              "}\n",
              "\n",
              "/**\n",
              " * Generator function which is called between each async step of the upload\n",
              " * process.\n",
              " * @param {string} inputId Element ID of the input file picker element.\n",
              " * @param {string} outputId Element ID of the output display.\n",
              " * @return {!Iterable<!Object>} Iterable of next steps.\n",
              " */\n",
              "function* uploadFilesStep(inputId, outputId) {\n",
              "  const inputElement = document.getElementById(inputId);\n",
              "  inputElement.disabled = false;\n",
              "\n",
              "  const outputElement = document.getElementById(outputId);\n",
              "  outputElement.innerHTML = '';\n",
              "\n",
              "  const pickedPromise = new Promise((resolve) => {\n",
              "    inputElement.addEventListener('change', (e) => {\n",
              "      resolve(e.target.files);\n",
              "    });\n",
              "  });\n",
              "\n",
              "  const cancel = document.createElement('button');\n",
              "  inputElement.parentElement.appendChild(cancel);\n",
              "  cancel.textContent = 'Cancel upload';\n",
              "  const cancelPromise = new Promise((resolve) => {\n",
              "    cancel.onclick = () => {\n",
              "      resolve(null);\n",
              "    };\n",
              "  });\n",
              "\n",
              "  // Wait for the user to pick the files.\n",
              "  const files = yield {\n",
              "    promise: Promise.race([pickedPromise, cancelPromise]),\n",
              "    response: {\n",
              "      action: 'starting',\n",
              "    }\n",
              "  };\n",
              "\n",
              "  cancel.remove();\n",
              "\n",
              "  // Disable the input element since further picks are not allowed.\n",
              "  inputElement.disabled = true;\n",
              "\n",
              "  if (!files) {\n",
              "    return {\n",
              "      response: {\n",
              "        action: 'complete',\n",
              "      }\n",
              "    };\n",
              "  }\n",
              "\n",
              "  for (const file of files) {\n",
              "    const li = document.createElement('li');\n",
              "    li.append(span(file.name, {fontWeight: 'bold'}));\n",
              "    li.append(span(\n",
              "        `(${file.type || 'n/a'}) - ${file.size} bytes, ` +\n",
              "        `last modified: ${\n",
              "            file.lastModifiedDate ? file.lastModifiedDate.toLocaleDateString() :\n",
              "                                    'n/a'} - `));\n",
              "    const percent = span('0% done');\n",
              "    li.appendChild(percent);\n",
              "\n",
              "    outputElement.appendChild(li);\n",
              "\n",
              "    const fileDataPromise = new Promise((resolve) => {\n",
              "      const reader = new FileReader();\n",
              "      reader.onload = (e) => {\n",
              "        resolve(e.target.result);\n",
              "      };\n",
              "      reader.readAsArrayBuffer(file);\n",
              "    });\n",
              "    // Wait for the data to be ready.\n",
              "    let fileData = yield {\n",
              "      promise: fileDataPromise,\n",
              "      response: {\n",
              "        action: 'continue',\n",
              "      }\n",
              "    };\n",
              "\n",
              "    // Use a chunked sending to avoid message size limits. See b/62115660.\n",
              "    let position = 0;\n",
              "    do {\n",
              "      const length = Math.min(fileData.byteLength - position, MAX_PAYLOAD_SIZE);\n",
              "      const chunk = new Uint8Array(fileData, position, length);\n",
              "      position += length;\n",
              "\n",
              "      const base64 = btoa(String.fromCharCode.apply(null, chunk));\n",
              "      yield {\n",
              "        response: {\n",
              "          action: 'append',\n",
              "          file: file.name,\n",
              "          data: base64,\n",
              "        },\n",
              "      };\n",
              "\n",
              "      let percentDone = fileData.byteLength === 0 ?\n",
              "          100 :\n",
              "          Math.round((position / fileData.byteLength) * 100);\n",
              "      percent.textContent = `${percentDone}% done`;\n",
              "\n",
              "    } while (position < fileData.byteLength);\n",
              "  }\n",
              "\n",
              "  // All done.\n",
              "  yield {\n",
              "    response: {\n",
              "      action: 'complete',\n",
              "    }\n",
              "  };\n",
              "}\n",
              "\n",
              "scope.google = scope.google || {};\n",
              "scope.google.colab = scope.google.colab || {};\n",
              "scope.google.colab._files = {\n",
              "  _uploadFiles,\n",
              "  _uploadFilesContinue,\n",
              "};\n",
              "})(self);\n",
              "</script> "
            ]
          },
          "metadata": {}
        },
        {
          "output_type": "stream",
          "name": "stdout",
          "text": [
            "Saving env.txt to env.txt\n"
          ]
        }
      ]
    },
    {
      "cell_type": "code",
      "source": [
        "import os\n",
        "\n",
        "if os.path.exists(\"env.txt\"):\n",
        "    os.rename(\"env.txt\", \"env\")\n",
        "    print(\"Renamed env.txt to env\")\n",
        "else:\n",
        "    print(\"File not found. Make sure you uploaded env.txt.\")"
      ],
      "metadata": {
        "colab": {
          "base_uri": "https://localhost:8080/"
        },
        "id": "kOoYQafKk7vQ",
        "outputId": "3154b8ac-537b-42e1-ac30-3abcc7445256"
      },
      "execution_count": null,
      "outputs": [
        {
          "output_type": "stream",
          "name": "stdout",
          "text": [
            "Renamed env.txt to env\n"
          ]
        }
      ]
    },
    {
      "cell_type": "code",
      "source": [
        "!pip install snowflake-connector-python python-dotenv"
      ],
      "metadata": {
        "colab": {
          "base_uri": "https://localhost:8080/"
        },
        "id": "OPbMHknlk_L7",
        "outputId": "f9e9cebb-d7b7-4f09-dfdf-b617bd802c1b"
      },
      "execution_count": null,
      "outputs": [
        {
          "output_type": "stream",
          "name": "stdout",
          "text": [
            "Requirement already satisfied: snowflake-connector-python in /usr/local/lib/python3.11/dist-packages (3.16.0)\n",
            "Requirement already satisfied: python-dotenv in /usr/local/lib/python3.11/dist-packages (1.1.1)\n",
            "Requirement already satisfied: asn1crypto<2.0.0,>0.24.0 in /usr/local/lib/python3.11/dist-packages (from snowflake-connector-python) (1.5.1)\n",
            "Requirement already satisfied: boto3>=1.24 in /usr/local/lib/python3.11/dist-packages (from snowflake-connector-python) (1.40.0)\n",
            "Requirement already satisfied: botocore>=1.24 in /usr/local/lib/python3.11/dist-packages (from snowflake-connector-python) (1.40.0)\n",
            "Requirement already satisfied: cffi<2.0.0,>=1.9 in /usr/local/lib/python3.11/dist-packages (from snowflake-connector-python) (1.17.1)\n",
            "Requirement already satisfied: cryptography>=3.1.0 in /usr/local/lib/python3.11/dist-packages (from snowflake-connector-python) (43.0.3)\n",
            "Requirement already satisfied: pyOpenSSL<26.0.0,>=22.0.0 in /usr/local/lib/python3.11/dist-packages (from snowflake-connector-python) (24.2.1)\n",
            "Requirement already satisfied: pyjwt<3.0.0 in /usr/local/lib/python3.11/dist-packages (from snowflake-connector-python) (2.10.1)\n",
            "Requirement already satisfied: pytz in /usr/local/lib/python3.11/dist-packages (from snowflake-connector-python) (2025.2)\n",
            "Requirement already satisfied: requests<3.0.0 in /usr/local/lib/python3.11/dist-packages (from snowflake-connector-python) (2.32.3)\n",
            "Requirement already satisfied: packaging in /usr/local/lib/python3.11/dist-packages (from snowflake-connector-python) (25.0)\n",
            "Requirement already satisfied: charset_normalizer<4,>=2 in /usr/local/lib/python3.11/dist-packages (from snowflake-connector-python) (3.4.2)\n",
            "Requirement already satisfied: idna<4,>=2.5 in /usr/local/lib/python3.11/dist-packages (from snowflake-connector-python) (3.10)\n",
            "Requirement already satisfied: certifi>=2017.4.17 in /usr/local/lib/python3.11/dist-packages (from snowflake-connector-python) (2025.7.14)\n",
            "Requirement already satisfied: typing_extensions<5,>=4.3 in /usr/local/lib/python3.11/dist-packages (from snowflake-connector-python) (4.14.1)\n",
            "Requirement already satisfied: filelock<4,>=3.5 in /usr/local/lib/python3.11/dist-packages (from snowflake-connector-python) (3.18.0)\n",
            "Requirement already satisfied: sortedcontainers>=2.4.0 in /usr/local/lib/python3.11/dist-packages (from snowflake-connector-python) (2.4.0)\n",
            "Requirement already satisfied: platformdirs<5.0.0,>=2.6.0 in /usr/local/lib/python3.11/dist-packages (from snowflake-connector-python) (4.3.8)\n",
            "Requirement already satisfied: tomlkit in /usr/local/lib/python3.11/dist-packages (from snowflake-connector-python) (0.13.3)\n",
            "Requirement already satisfied: jmespath<2.0.0,>=0.7.1 in /usr/local/lib/python3.11/dist-packages (from boto3>=1.24->snowflake-connector-python) (1.0.1)\n",
            "Requirement already satisfied: s3transfer<0.14.0,>=0.13.0 in /usr/local/lib/python3.11/dist-packages (from boto3>=1.24->snowflake-connector-python) (0.13.1)\n",
            "Requirement already satisfied: python-dateutil<3.0.0,>=2.1 in /usr/local/lib/python3.11/dist-packages (from botocore>=1.24->snowflake-connector-python) (2.9.0.post0)\n",
            "Requirement already satisfied: urllib3!=2.2.0,<3,>=1.25.4 in /usr/local/lib/python3.11/dist-packages (from botocore>=1.24->snowflake-connector-python) (2.5.0)\n",
            "Requirement already satisfied: pycparser in /usr/local/lib/python3.11/dist-packages (from cffi<2.0.0,>=1.9->snowflake-connector-python) (2.22)\n",
            "Requirement already satisfied: six>=1.5 in /usr/local/lib/python3.11/dist-packages (from python-dateutil<3.0.0,>=2.1->botocore>=1.24->snowflake-connector-python) (1.17.0)\n"
          ]
        }
      ]
    },
    {
      "cell_type": "code",
      "source": [
        "from dotenv import load_dotenv\n",
        "load_dotenv(\"env\")  # This loads the Snowflake credentials into the environment"
      ],
      "metadata": {
        "colab": {
          "base_uri": "https://localhost:8080/"
        },
        "id": "-e_ija5ylBIe",
        "outputId": "03510eca-e6b0-4eae-a18c-500896429921"
      },
      "execution_count": null,
      "outputs": [
        {
          "output_type": "execute_result",
          "data": {
            "text/plain": [
              "True"
            ]
          },
          "metadata": {},
          "execution_count": 26
        }
      ]
    },
    {
      "cell_type": "code",
      "source": [
        "import snowflake.connector\n",
        "import os\n",
        "\n",
        "# Pull in credentials\n",
        "conn = snowflake.connector.connect(\n",
        "    user=os.getenv(\"SNOWFLAKE_USER\"),\n",
        "    password=os.getenv(\"SNOWFLAKE_PASSWORD\"),\n",
        "    account=os.getenv(\"SNOWFLAKE_ACCOUNT\"),\n",
        "    role=os.getenv(\"SNOWFLAKE_ROLE\"),\n",
        "    warehouse=os.getenv(\"SNOWFLAKE_WAREHOUSE\"),\n",
        "    database=os.getenv(\"SNOWFLAKE_DATABASE\"),\n",
        "    schema=os.getenv(\"SNOWFLAKE_SCHEMA\")\n",
        ")\n",
        "\n",
        "# Run a simple test query\n",
        "cur = conn.cursor()\n",
        "cur.execute(\"SELECT CURRENT_USER(), CURRENT_ROLE(), CURRENT_DATABASE();\")\n",
        "for row in cur:\n",
        "    print(row)\n",
        "\n",
        "cur.close()\n",
        "conn.close()"
      ],
      "metadata": {
        "colab": {
          "base_uri": "https://localhost:8080/"
        },
        "id": "80emU-fllD84",
        "outputId": "e802b51a-ade6-47b3-b521-29a0d8c853db"
      },
      "execution_count": null,
      "outputs": [
        {
          "output_type": "stream",
          "name": "stdout",
          "text": [
            "('SHIVNEETN', 'AST_REALESTATE_DB_RW', 'AST_REALESTATE_DB')\n"
          ]
        }
      ]
    },
    {
      "cell_type": "markdown",
      "source": [
        "## Sample code for updating 'ShareClass' column from functional code"
      ],
      "metadata": {
        "id": "4Lph876yoWPg"
      }
    },
    {
      "cell_type": "code",
      "source": [
        "import pandas as pd\n",
        "import os\n",
        "import snowflake.connector\n",
        "from snowflake.connector.pandas_tools import write_pandas\n",
        "\n",
        "# Sample ProductMaster Data\n",
        "product_df = pd.DataFrame({\n",
        "    \"PRODUCTCODE\": [\"REITProd001\", \"REITProd002\"],\n",
        "    \"PRODUCTNAME\": [\n",
        "        \"Assette Real Estate Growth Fund\",\n",
        "        \"Assette Real Estate Value Fund\"\n",
        "    ],\n",
        "    \"VEHICLECATEGORY\": [\n",
        "        \"Mutual Fund\", \"ETF\"\n",
        "    ]\n",
        "})\n",
        "\n",
        "def assign_share_class(row):\n",
        "    \"\"\"\n",
        "    Assign SHARECLASS based on keywords in PRODUCTNAME and VEHICLECATEGORY.\n",
        "\n",
        "    Args:\n",
        "        row (pd.Series): Row of product data.\n",
        "\n",
        "    Returns:\n",
        "        str: Assigned share class label.\n",
        "    \"\"\"\n",
        "    name = str(row.get(\"PRODUCTNAME\", \"\")).lower()\n",
        "    vehicle = str(row.get(\"VEHICLECATEGORY\", \"\")).lower()\n",
        "\n",
        "    if \"class a\" in name:\n",
        "        return \"Class A\"\n",
        "    if \"class b\" in name:\n",
        "        return \"Class B\"\n",
        "    if \"class c\" in name:\n",
        "        return \"Class C\"\n",
        "    if \"preferred\" in name:\n",
        "        return \"Preferred\"\n",
        "    if \"institutional\" in name or \"separate account\" in vehicle:\n",
        "        return \"Institutional\"\n",
        "    if \"retail\" in name or \"mutual\" in vehicle:\n",
        "        return \"Retail\"\n",
        "    return \"N/A\"\n",
        "\n",
        "def assign_vehicle_type(row):\n",
        "    \"\"\"\n",
        "    Determine VEHICLETYPE based on PRODUCTNAME and VEHICLECATEGORY.\n",
        "\n",
        "    Args:\n",
        "        row (pd.Series): Row of product data.\n",
        "\n",
        "    Returns:\n",
        "        str: Vehicle type label.\n",
        "    \"\"\"\n",
        "    name = str(row.get(\"PRODUCTNAME\", \"\")).lower()\n",
        "    category = str(row.get(\"VEHICLECATEGORY\", \"\")).lower()\n",
        "\n",
        "    if \"separate\" in category or \"separate account\" in name:\n",
        "        return \"Separate Account\"\n",
        "    if \"mutual\" in name or \"mutual\" in category:\n",
        "        return \"Mutual Fund\"\n",
        "    if \"fund\" in name and \"class\" in name:\n",
        "        return \"Commingled Fund\"\n",
        "    return \"Mutual Fund\"\n",
        "\n",
        "def assign_vehicle_category(row):\n",
        "    \"\"\"\n",
        "    Assign VEHICLECATEGORY based on VEHICLETYPE.\n",
        "\n",
        "    Args:\n",
        "        row (pd.Series): Row of product data.\n",
        "\n",
        "    Returns:\n",
        "        str: Vehicle category label (\"Segregated\" or \"Pooled\").\n",
        "    \"\"\"\n",
        "    vt = row.get(\"VEHICLETYPE\", \"\")\n",
        "    if vt == \"Separate Account\":\n",
        "        return \"Segregated\"\n",
        "    return \"Pooled\"\n",
        "\n",
        "def recast_etf_products(row):\n",
        "    \"\"\"\n",
        "    Adjust product details for ETF products.\n",
        "\n",
        "    Args:\n",
        "        row (pd.Series): Row of product data.\n",
        "\n",
        "    Returns:\n",
        "        pd.Series: Modified row with updated ETF fields.\n",
        "    \"\"\"\n",
        "    name = str(row.get(\"PRODUCTNAME\", \"\")).lower()\n",
        "    vehicle = str(row.get(\"VEHICLECATEGORY\", \"\")).lower()\n",
        "\n",
        "    if \"etf\" in name or \"etf\" in vehicle:\n",
        "        row[\"PRODUCTNAME\"] = f\"Global Real Estate Growth Fund ({row['PRODUCTCODE']})\"\n",
        "        row[\"VEHICLETYPE\"] = \"Commingled Fund\"\n",
        "        row[\"VEHICLECATEGORY\"] = \"Pooled\"\n",
        "        row[\"SHARECLASS\"] = \"Institutional\"\n",
        "    return row\n",
        "\n",
        "# Apply classification logic to DataFrame\n",
        "product_df[\"SHARECLASS\"] = product_df.apply(assign_share_class, axis=1)\n",
        "product_df[\"VEHICLETYPE\"] = product_df.apply(assign_vehicle_type, axis=1)\n",
        "product_df[\"VEHICLECATEGORY\"] = product_df.apply(assign_vehicle_category, axis=1)\n",
        "product_df = product_df.apply(recast_etf_products, axis=1)\n",
        "\n",
        "# Add remaining required columns with static/default values\n",
        "product_df[\"ASSETCLASS\"] = \"Equity\"\n",
        "product_df[\"ISMARKETED\"] = 1\n",
        "product_df[\"PARENTPRODUCTCODE\"] = \"PRDK_MASTER\"\n",
        "product_df[\"PERFORMANCEACCOUNT\"] = product_df[\"PRODUCTCODE\"].apply(lambda x: f\"{x}_PERF\")\n",
        "product_df[\"REPRESENTATIVEACCOUNT\"] = product_df[\"PRODUCTCODE\"].apply(lambda x: f\"{x}_REP\")\n",
        "product_df[\"STRATEGY\"] = \"REIT\"\n",
        "\n",
        "# Normalize column names to uppercase for Snowflake compatibility\n",
        "product_df.columns = product_df.columns.str.upper()\n",
        "\n",
        "# Connect to Snowflake using environment variables for credentials\n",
        "conn = snowflake.connector.connect(\n",
        "    user=os.getenv(\"SNOWFLAKE_USER\"),\n",
        "    password=os.getenv(\"SNOWFLAKE_PASSWORD\"),\n",
        "    account=os.getenv(\"SNOWFLAKE_ACCOUNT\"),\n",
        "    role=os.getenv(\"SNOWFLAKE_ROLE\"),\n",
        "    warehouse=os.getenv(\"SNOWFLAKE_WAREHOUSE\"),\n",
        "    database=os.getenv(\"SNOWFLAKE_DATABASE\"),\n",
        "    schema=os.getenv(\"SNOWFLAKE_SCHEMA\")\n",
        ")\n",
        "\n",
        "with conn.cursor() as cur:\n",
        "    # Set database and schema explicitly\n",
        "    cur.execute(\"USE DATABASE AST_REALESTATE_DB\")\n",
        "    cur.execute(\"USE SCHEMA DBO\")\n",
        "\n",
        "    # Upload DataFrame to Snowflake staging table (overwrite if exists)\n",
        "    success, nchunks, nrows, _ = write_pandas(conn, product_df, \"STG_PRODUCTMASTER\", overwrite=True)\n",
        "    print(f\"Uploaded {nrows} rows to STG_PRODUCTMASTER\")\n",
        "\n",
        "    # Merge new rows into ProductMaster table, insert only if PRODUCTCODE not already present\n",
        "    cur.execute(\"\"\"\n",
        "        MERGE INTO ProductMaster AS target\n",
        "        USING STG_PRODUCTMASTER AS source\n",
        "        ON target.PRODUCTCODE = source.PRODUCTCODE\n",
        "        WHEN NOT MATCHED THEN\n",
        "        INSERT (\n",
        "            PRODUCTCODE,\n",
        "            PRODUCTNAME,\n",
        "            ASSETCLASS,\n",
        "            ISMARKETED,\n",
        "            PARENTPRODUCTCODE,\n",
        "            PERFORMANCEACCOUNT,\n",
        "            REPRESENTATIVEACCOUNT,\n",
        "            SHARECLASS,\n",
        "            STRATEGY,\n",
        "            VEHICLECATEGORY,\n",
        "            VEHICLETYPE\n",
        "        )\n",
        "        VALUES (\n",
        "            source.PRODUCTCODE,\n",
        "            source.PRODUCTNAME,\n",
        "            source.ASSETCLASS,\n",
        "            source.ISMARKETED,\n",
        "            source.PARENTPRODUCTCODE,\n",
        "            source.PERFORMANCEACCOUNT,\n",
        "            source.REPRESENTATIVEACCOUNT,\n",
        "            source.SHARECLASS,\n",
        "            source.STRATEGY,\n",
        "            source.VEHICLECATEGORY,\n",
        "            source.VEHICLETYPE\n",
        "        )\n",
        "    \"\"\")\n",
        "    print(\"New rows successfully inserted into ProductMaster\")\n"
      ],
      "metadata": {
        "colab": {
          "base_uri": "https://localhost:8080/"
        },
        "id": "xzITUn4mpk3N",
        "outputId": "0cbdd99e-d941-4e9b-8248-6b93e7582e04"
      },
      "execution_count": null,
      "outputs": [
        {
          "output_type": "stream",
          "name": "stdout",
          "text": [
            "Uploaded 2 rows to STG_PRODUCTMASTER\n",
            "New rows successfully inserted into ProductMaster\n"
          ]
        }
      ]
    },
    {
      "cell_type": "markdown",
      "source": [
        "# **Data Flow & Architecture Mapping (WIP)**"
      ],
      "metadata": {
        "id": "HDwFor7fKggY"
      }
    },
    {
      "cell_type": "markdown",
      "source": [
        "## Source to Storage Mapping"
      ],
      "metadata": {
        "id": "lGfChAnZKrjb"
      }
    },
    {
      "cell_type": "markdown",
      "source": [
        "| Stage                          | Description                                                                                          |\n",
        "| ------------------------------ | ---------------------------------------------------------------------------------------------------- |\n",
        "| **Source**                     | Synthetic or internal product metadata (`PRODUCTCODE`, `PRODUCTNAME`, `VEHICLECATEGORY`)             |\n",
        "| **Extraction**                 | Loaded as `product_df` into Python from Snowflake, Excel seed file, or local seed JSON               |\n",
        "| **Transformation**             | Classification logic applies business rules:                                                         |\n",
        "|  • `assign_share_class()`      | Infers SHARECLASS from `PRODUCTNAME` and `VEHICLECATEGORY`                                           |\n",
        "|  • `assign_vehicle_type()`     | Maps to Assette-approved VEHICLETYPE values                                                          |\n",
        "|  • `assign_vehicle_category()` | Maps VEHICLECATEGORY to `Segregated` or `Pooled`                                                     |\n",
        "|  • `recast_etf_products()`     | Rewrites ETF-flagged products as modeled commingled institutional vehicles                           |\n",
        "| **Validation**                 | `validate_shareclass()` checks for invalid or missing SHARECLASS values; logs issues for diagnostics |\n",
        "| **Storage**                    | Final enriched `product_df` is directly loaded to Snowflake `PRODUCTMASTER` via `write_pandas()`     |\n",
        "| **Consumption**                | Queried by Assette UI, fact sheet generator, classification reports, or internal audit pipelines     |\n"
      ],
      "metadata": {
        "id": "WWPveC72KuV0"
      }
    },
    {
      "cell_type": "markdown",
      "source": [
        "## Data Flow Diagram"
      ],
      "metadata": {
        "id": "M5Op_1AdK0br"
      }
    },
    {
      "cell_type": "markdown",
      "source": [
        "          +---------------------+\n",
        "          | Raw Input (CSV/DB)  |  ← manual seed or staging\n",
        "          +---------------------+\n",
        "                     |\n",
        "         [read_csv or Snowflake SELECT]\n",
        "                     |\n",
        "                     v\n",
        "          +-----------------------------+\n",
        "          |   recast_fund_products()     |  ← Normalize Fund records\n",
        "          +-----------------------------+\n",
        "                     |\n",
        "                     v\n",
        "          +-----------------------------+\n",
        "          | assign_share_class()        |  ← Infer share class\n",
        "          | assign_vehicle_type()       |  ← Map vehicle type\n",
        "          | assign_vehicle_category()   |  ← Pooled or segregated\n",
        "          +-----------------------------+\n",
        "                     |\n",
        "                     v\n",
        "          +-----------------------------+\n",
        "          | validate_shareclass()       |  ← Error handling / QA\n",
        "          +-----------------------------+\n",
        "                     |\n",
        "                     v\n",
        "          +-----------------------------+\n",
        "          | write_pandas() to Snowflake |\n",
        "          | (PRODUCTMASTER table)       |\n",
        "          +-----------------------------+\n",
        "                     |\n",
        "                     v\n",
        "          +-----------------------------+\n",
        "          | Access via Assette UI, SQL  |\n",
        "          +-----------------------------+\n"
      ],
      "metadata": {
        "id": "D15auVSBK28M"
      }
    },
    {
      "cell_type": "markdown",
      "source": [
        "## Transformation Logic Documentation"
      ],
      "metadata": {
        "id": "G2LIoBxqK8Zj"
      }
    },
    {
      "cell_type": "markdown",
      "source": [
        "SHARECLASS:\n",
        "\n",
        "| Transformation  | Description                                                          |\n",
        "| --------------- | -------------------------------------------------------------------- |\n",
        "| Class Detection | Tags based on `\"Class A\"`, `\"Class B\"`, `\"Class C\"` in `PRODUCTNAME` |\n",
        "| Preferred       | Detected from presence of `\"Preferred\"` keyword                      |\n",
        "| Institutional   | Matches `\"Institutional\"` or `\"Separate Account\"` in name or vehicle |\n",
        "| Retail          | Matches `\"Retail\"` or `\"Mutual\"` in name or vehicle                  |\n",
        "| ETF Recast      | Defaulted to `\"Institutional\"` if recast as ETF-modeled strategy     |\n",
        "| Fallback        | Defaults to `\"N/A\"` if no trigger matched                            |\n",
        "| Data Type       | `VARCHAR` (non-nullable in final table)                              |\n",
        "\n",
        "\n",
        "\n",
        "VEHICLETYPE:\n",
        "\n",
        "| Transformation   | Description                                                              |\n",
        "| ---------------- | ------------------------------------------------------------------------ |\n",
        "| Separate Account | Detected from `\"Separate Account\"` in `VEHICLECATEGORY` or `PRODUCTNAME` |\n",
        "| Mutual Fund      | Default fallback if `\"Mutual\"` found or other logic doesn’t apply        |\n",
        "| Commingled Fund  | Assigned when ETF-based product is recast                                |\n",
        "| Data Type        | `VARCHAR` – uses Assette's approved enumeration list                     |\n",
        "\n",
        "\n",
        "\n",
        "VEHICLECATEGORY:\n",
        "\n",
        "| Transformation | Description                                     |\n",
        "| -------------- | ----------------------------------------------- |\n",
        "| Segregated     | Assigned if `VEHICLETYPE == \"Separate Account\"` |\n",
        "| Pooled         | Assigned for all other vehicle types            |\n",
        "| Data Type      | `VARCHAR`, maps to Assette display terminology  |\n",
        "\n",
        "\n",
        "\n",
        "ETF-Based Recast Logic:\n",
        "\n",
        "| Trigger                                           | Transformation                                                             |\n",
        "| ------------------------------------------------- | -------------------------------------------------------------------------- |\n",
        "| `PRODUCTNAME` or `VEHICLECATEGORY` contains \"ETF\" | Recast as modeled strategy                                                 |\n",
        "| PRODUCTNAME updated                               | Formatted as `\"Global Real Estate Growth Fund (PRODUCTCODE)\"`              |\n",
        "| VEHICLETYPE                                       | Set to `\"Commingled Fund\"`                                                 |\n",
        "| VEHICLECATEGORY                                   | Set to `\"Pooled\"`                                                          |\n",
        "| SHARECLASS                                        | Defaulted to `\"Institutional\"`                                             |\n",
        "| Purpose                                           | Ensure ETF products are modeled as fund wrappers with appropriate metadata |\n"
      ],
      "metadata": {
        "id": "6ysHlZvOLAOa"
      }
    },
    {
      "cell_type": "markdown",
      "source": [
        "## Future Enhancements"
      ],
      "metadata": {
        "id": "CAtaWIy0LFVa"
      }
    },
    {
      "cell_type": "markdown",
      "source": [
        "| Feature                  | Description                                                               |\n",
        "| ------------------------ | ------------------------------------------------------------------------- |\n",
        "| REIT Exposure Join       | Join to HoldingsDetails; if ≥75% REITs, tag strategy or override metadata |\n",
        "| Audit Fields             | Add `INGESTED_TIMESTAMP`, `CLASSIFICATION_METHOD`, and `SOURCE` columns   |\n",
        "| Override Table           | Maintain a small lookup for manual corrections or edge-case tickers       |\n",
        "| Business Rules as Config | Extract logic into YAML or JSON for maintainability and UI control        |\n",
        "| CI/CD Integration        | Deploy logic into dbt or orchestration pipeline with scheduled validation |\n"
      ],
      "metadata": {
        "id": "qDfFTMh1LHuo"
      }
    },
    {
      "cell_type": "code",
      "source": [],
      "metadata": {
        "id": "fgKBE81rKm0m"
      },
      "execution_count": null,
      "outputs": []
    }
  ]
}